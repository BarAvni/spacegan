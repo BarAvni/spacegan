{
 "cells": [
  {
   "cell_type": "markdown",
   "metadata": {},
   "source": [
    "## Setup\n",
    "\n",
    "Load required packages"
   ]
  },
  {
   "cell_type": "code",
   "execution_count": 1,
   "metadata": {},
   "outputs": [
    {
     "name": "stderr",
     "output_type": "stream",
     "text": [
      "C:\\ProgramData\\Anaconda3\\lib\\site-packages\\pysal\\model\\spvcm\\abstracts.py:10: UserWarning: The `dill` module is required to use the sqlite backend fully.\n",
      "  from .sqlite import head_to_sql, start_sql\n"
     ]
    }
   ],
   "source": [
    "import pandas as pd\n",
    "import io\n",
    "import requests\n",
    "import numpy as np\n",
    "import random\n",
    "import libpysal\n",
    "import pysal"
   ]
  },
  {
   "cell_type": "markdown",
   "metadata": {},
   "source": [
    "Read data"
   ]
  },
  {
   "cell_type": "code",
   "execution_count": 2,
   "metadata": {},
   "outputs": [],
   "source": [
    "#Read from URL (Doesnt work for private repos)\n",
    "#url=\"https://github.com/konstantinklemmer/spacegan/raw/master/data/synth_data.csv\"\n",
    "#s=requests.get(url).content\n",
    "#data=pd.read_csv(io.StringIO(s.decode('utf-8')))\n",
    "\n",
    "#Read from local file\n",
    "data=pd.read_csv(\"C:/Users/Konstantin Klemmer/Documents/GitHub/spacegan/data/synth_data.csv\")"
   ]
  },
  {
   "cell_type": "code",
   "execution_count": 3,
   "metadata": {},
   "outputs": [
    {
     "data": {
      "text/html": [
       "<div>\n",
       "<style scoped>\n",
       "    .dataframe tbody tr th:only-of-type {\n",
       "        vertical-align: middle;\n",
       "    }\n",
       "\n",
       "    .dataframe tbody tr th {\n",
       "        vertical-align: top;\n",
       "    }\n",
       "\n",
       "    .dataframe thead th {\n",
       "        text-align: right;\n",
       "    }\n",
       "</style>\n",
       "<table border=\"1\" class=\"dataframe\">\n",
       "  <thead>\n",
       "    <tr style=\"text-align: right;\">\n",
       "      <th></th>\n",
       "      <th>id</th>\n",
       "      <th>longitude</th>\n",
       "      <th>latitude</th>\n",
       "      <th>y</th>\n",
       "      <th>z</th>\n",
       "    </tr>\n",
       "  </thead>\n",
       "  <tbody>\n",
       "    <tr>\n",
       "      <th>0</th>\n",
       "      <td>1</td>\n",
       "      <td>1.75</td>\n",
       "      <td>1.75</td>\n",
       "      <td>0.980099</td>\n",
       "      <td>1.370958</td>\n",
       "    </tr>\n",
       "    <tr>\n",
       "      <th>1</th>\n",
       "      <td>2</td>\n",
       "      <td>5.25</td>\n",
       "      <td>1.75</td>\n",
       "      <td>11.714839</td>\n",
       "      <td>-0.564698</td>\n",
       "    </tr>\n",
       "    <tr>\n",
       "      <th>2</th>\n",
       "      <td>3</td>\n",
       "      <td>8.75</td>\n",
       "      <td>1.75</td>\n",
       "      <td>49.355200</td>\n",
       "      <td>0.363128</td>\n",
       "    </tr>\n",
       "    <tr>\n",
       "      <th>3</th>\n",
       "      <td>4</td>\n",
       "      <td>12.25</td>\n",
       "      <td>1.75</td>\n",
       "      <td>110.841455</td>\n",
       "      <td>0.632863</td>\n",
       "    </tr>\n",
       "    <tr>\n",
       "      <th>4</th>\n",
       "      <td>5</td>\n",
       "      <td>15.75</td>\n",
       "      <td>1.75</td>\n",
       "      <td>196.393346</td>\n",
       "      <td>0.404268</td>\n",
       "    </tr>\n",
       "  </tbody>\n",
       "</table>\n",
       "</div>"
      ],
      "text/plain": [
       "   id  longitude  latitude           y         z\n",
       "0   1       1.75      1.75    0.980099  1.370958\n",
       "1   2       5.25      1.75   11.714839 -0.564698\n",
       "2   3       8.75      1.75   49.355200  0.363128\n",
       "3   4      12.25      1.75  110.841455  0.632863\n",
       "4   5      15.75      1.75  196.393346  0.404268"
      ]
     },
     "execution_count": 3,
     "metadata": {},
     "output_type": "execute_result"
    }
   ],
   "source": [
    "data.head(5)"
   ]
  },
  {
   "cell_type": "markdown",
   "metadata": {},
   "source": [
    "Create a pairwise distance matrix (Euclidean) between the points"
   ]
  },
  {
   "cell_type": "code",
   "execution_count": 4,
   "metadata": {},
   "outputs": [],
   "source": [
    "dist = pysal.lib.cg.distance_matrix(np.array(data[[\"longitude\",\"latitude\"]]))"
   ]
  },
  {
   "cell_type": "markdown",
   "metadata": {},
   "source": [
    "Get the `k` smallest distances (of the whole matrix, since the points are equally distributed)"
   ]
  },
  {
   "cell_type": "code",
   "execution_count": 5,
   "metadata": {},
   "outputs": [],
   "source": [
    "k=10\n",
    "u_dist = np.unique(dist)\n",
    "k_min_dist = np.sort(u_dist.flatten())[:k]"
   ]
  },
  {
   "cell_type": "code",
   "execution_count": 6,
   "metadata": {},
   "outputs": [
    {
     "data": {
      "text/plain": [
       "array([ 0.        ,  3.5       ,  4.94974747,  7.        ,  7.82623792,\n",
       "        9.89949494, 10.5       , 11.06797181, 12.61942946, 14.        ])"
      ]
     },
     "execution_count": 6,
     "metadata": {},
     "output_type": "execute_result"
    }
   ],
   "source": [
    "k_min_dist"
   ]
  },
  {
   "cell_type": "markdown",
   "metadata": {},
   "source": [
    "Create spatial points object ([KDTree](https://pysal.readthedocs.io/en/dev/library/cg/kdtree.html))). "
   ]
  },
  {
   "cell_type": "code",
   "execution_count": 7,
   "metadata": {},
   "outputs": [],
   "source": [
    "import pysal.lib\n",
    "kd = pysal.lib.cg.kdtree.KDTree(np.array(data[[\"longitude\",\"latitude\"]]))"
   ]
  },
  {
   "cell_type": "markdown",
   "metadata": {},
   "source": [
    "Compute spatial neighbourhoods weight matrix by distance threshold (\"radius\")\n"
   ]
  },
  {
   "cell_type": "code",
   "execution_count": 8,
   "metadata": {},
   "outputs": [],
   "source": [
    "#wnn = pysal.lib.weights.KNN(kd, 8, ids=data[\"id\"]) #KNN based weights\n",
    "#wdist= pysal.lib.weights.distance.DistanceBand(kd, threshold=k_min_dist[1],binary=False,p=2) #Rook\n",
    "wdist= pysal.lib.weights.distance.DistanceBand(kd, threshold=k_min_dist[2],binary=True,p=2) #Queen\n",
    "#wdist= pysal.lib.weights.distance.DistanceBand(kd, threshold=k_min_dist[4],binary=True,p=2) #Queen 2nd degree"
   ]
  },
  {
   "cell_type": "markdown",
   "metadata": {},
   "source": [
    "## Spatial CV: Lat/Lon slicing"
   ]
  },
  {
   "cell_type": "markdown",
   "metadata": {},
   "source": [
    "Create labels based on latitude / longitude binning and add the labels to the original data"
   ]
  },
  {
   "cell_type": "code",
   "execution_count": 9,
   "metadata": {},
   "outputs": [],
   "source": [
    "data[\"lon_group\"] = pd.cut(data[\"longitude\"],bins=5,labels=[1,2,3,4,5])\n",
    "data[\"lat_group\"] = pd.cut(data[\"latitude\"],bins=5,labels=[1,2,3,4,5])"
   ]
  },
  {
   "cell_type": "markdown",
   "metadata": {},
   "source": [
    "This method loops over our lat/lon groups, keeping each group as test data and the rest as train data. However, as we want to do spatial cross-validation, we remove neighbors of the test set. This can help to prevent model overfitting. Here, we remove 1st and 2nd degree neighbors, but the method can be adapted as needed."
   ]
  },
  {
   "cell_type": "code",
   "execution_count": 10,
   "metadata": {},
   "outputs": [],
   "source": [
    "for q in list(data)[-2::]: #Loop over the two slicing label columns \n",
    "    data[\"s_id\"] = data[q] #Define which label column to use for slicing\n",
    "    \n",
    "    for j in np.unique(data[\"s_id\"]): #Loop over the unique labels in the slicing column \n",
    "        \n",
    "        test = data[data[\"s_id\"]==j] #Define test data \n",
    "        \n",
    "        temp_id = [] #Create empty neighbourhood index\n",
    "        \n",
    "        for k in test.index: #Fill neighborhood index using first degree neighbors of test data\n",
    "            temp_id = np.unique(np.concatenate([temp_id,wdist.neighbors[k]]).ravel().astype(np.int32))\n",
    "            \n",
    "        for l in temp_id: #Include second degree neighbors\n",
    "            temp_id = np.unique(np.concatenate([temp_id,wdist.neighbors[l]]).ravel().astype(np.int32))\n",
    "        \n",
    "        #for m in temp_id: #Include third degree neighbors\n",
    "        #    temp_id = np.unique(np.concatenate([temp_id,wdist.neighbors[m]]).ravel().astype(np.int32))\n",
    "            \n",
    "        train = data[data[\"s_id\"]!=j] #Define train data \n",
    "        train = train.drop(temp_id,errors=\"ignore\") #Exclude neighbors from index\n",
    "        \n",
    "        #INSERT DATA AUGMENTATION METHOD HERE\n",
    "        #train_aug = ...\n",
    "        \n",
    "        #INSERT MODEL TRAINING HERE\n",
    "        #model1 = f(train)\n",
    "        #predict = predict(model1,test)"
   ]
  },
  {
   "cell_type": "markdown",
   "metadata": {},
   "source": [
    "Lets take a look at the train and test data in our last iteration:"
   ]
  },
  {
   "cell_type": "code",
   "execution_count": 11,
   "metadata": {},
   "outputs": [
    {
     "data": {
      "text/plain": [
       "<matplotlib.collections.PathCollection at 0x2a469c6e240>"
      ]
     },
     "execution_count": 11,
     "metadata": {},
     "output_type": "execute_result"
    },
    {
     "data": {
      "image/png": "[encoded data removed]",
      "text/plain": [
       "<Figure size 432x288 with 1 Axes>"
      ]
     },
     "metadata": {
      "needs_background": "light"
     },
     "output_type": "display_data"
    }
   ],
   "source": [
    "import matplotlib.pyplot as plt\n",
    "plt.scatter(data[\"longitude\"],data[\"latitude\"],color=\"grey\")\n",
    "plt.scatter(train[\"longitude\"],train[\"latitude\"],color=\"red\")\n",
    "plt.scatter(test[\"longitude\"],test[\"latitude\"],color=\"blue\")"
   ]
  },
  {
   "cell_type": "markdown",
   "metadata": {},
   "source": [
    "## Spatial CV: Leave-one-out (SLOO-CV)"
   ]
  },
  {
   "cell_type": "markdown",
   "metadata": {},
   "source": [
    "This method loops over every single observation as test points (as leave-one-out does) but excludes the neighbors of each test points. We can again define neighborhood structure as we wish; for now we again exclude 1st and 2nd degree neighbors."
   ]
  },
  {
   "cell_type": "code",
   "execution_count": 12,
   "metadata": {},
   "outputs": [],
   "source": [
    "for i in data[\"id\"]:\n",
    "        \n",
    "    test = data[data[\"id\"]==i]\n",
    "        \n",
    "    temp_id = []\n",
    "        \n",
    "    for k in test.index:\n",
    "        temp_id = np.unique(np.concatenate([temp_id,wdist.neighbors[k]]).ravel().astype(np.int32))\n",
    "            \n",
    "        for l in temp_id: #Include second degree neighbors\n",
    "            temp_id = np.unique(np.concatenate([temp_id,wdist.neighbors[l]]).ravel().astype(np.int32))\n",
    "        \n",
    "        #for m in temp_id: #Include third degree neighbors\n",
    "        #    temp_id = np.unique(np.concatenate([temp_id,wdist.neighbors[m]]).ravel().astype(np.int32))\n",
    "            \n",
    "        train = data[data[\"s_id\"]!=i]\n",
    "        train = train.drop(temp_id,errors=\"ignore\")\n",
    "        \n",
    "        #INSERT DATA AUGMENTATION METHOD HERE\n",
    "        #train_aug = ...\n",
    "        \n",
    "        #INSERT MODEL TRAINING HERE\n",
    "        #model1 = f(train)\n",
    "        #predict = predict(model1,test)"
   ]
  },
  {
   "cell_type": "markdown",
   "metadata": {},
   "source": [
    "Let's check how the train and test set look in this case:"
   ]
  },
  {
   "cell_type": "code",
   "execution_count": 13,
   "metadata": {},
   "outputs": [
    {
     "data": {
      "text/plain": [
       "<matplotlib.collections.PathCollection at 0x2a469d14908>"
      ]
     },
     "execution_count": 13,
     "metadata": {},
     "output_type": "execute_result"
    },
    {
     "data": {
      "image/png": "[encoded data removed]",
      "text/plain": [
       "<Figure size 432x288 with 1 Axes>"
      ]
     },
     "metadata": {
      "needs_background": "light"
     },
     "output_type": "display_data"
    }
   ],
   "source": [
    "plt.scatter(data[\"longitude\"],data[\"latitude\"],color=\"grey\")\n",
    "plt.scatter(train[\"longitude\"],train[\"latitude\"],color=\"red\")\n",
    "plt.scatter(test[\"longitude\"],test[\"latitude\"],color=\"blue\")"
   ]
  }
 ],
 "metadata": {
  "kernelspec": {
   "display_name": "Python 3",
   "language": "python",
   "name": "python3"
  },
  "language_info": {
   "codemirror_mode": {
    "name": "ipython",
    "version": 3
   },
   "file_extension": ".py",
   "mimetype": "text/x-python",
   "name": "python",
   "nbconvert_exporter": "python",
   "pygments_lexer": "ipython3",
   "version": "3.6.8"
  }
 },
 "nbformat": 4,
 "nbformat_minor": 2
}
