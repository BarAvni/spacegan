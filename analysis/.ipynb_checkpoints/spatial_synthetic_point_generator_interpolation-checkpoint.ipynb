{
 "cells": [
  {
   "cell_type": "markdown",
   "metadata": {},
   "source": [
    "## Setup\n",
    "\n",
    "Load required packages"
   ]
  },
  {
   "cell_type": "code",
   "execution_count": 1,
   "metadata": {},
   "outputs": [
    {
     "name": "stderr",
     "output_type": "stream",
     "text": [
      "C:\\ProgramData\\Anaconda3\\lib\\site-packages\\pysal\\model\\spvcm\\abstracts.py:10: UserWarning: The `dill` module is required to use the sqlite backend fully.\n",
      "  from .sqlite import head_to_sql, start_sql\n"
     ]
    }
   ],
   "source": [
    "import pandas as pd\n",
    "import io\n",
    "import requests\n",
    "import numpy as np\n",
    "import random\n",
    "import libpysal\n",
    "import pysal\n",
    "import pysal.lib"
   ]
  },
  {
   "cell_type": "markdown",
   "metadata": {},
   "source": [
    "Read data"
   ]
  },
  {
   "cell_type": "code",
   "execution_count": 2,
   "metadata": {},
   "outputs": [],
   "source": [
    "#Read from URL (Doesnt work for private repos)\n",
    "#url=\"https://github.com/konstantinklemmer/spacegan/raw/master/data/synth_data.csv\"\n",
    "#s=requests.get(url).content\n",
    "#data=pd.read_csv(io.StringIO(s.decode('utf-8')))\n",
    "\n",
    "#Read from local file\n",
    "data_ex1 = pd.read_csv(\"C:/Users/Konstantin Klemmer/Documents/GitHub/spacegan/data/synth_data_ex1.csv\")\n",
    "data_ex2 = pd.read_csv(\"C:/Users/Konstantin Klemmer/Documents/GitHub/spacegan/data/synth_data_ex2.csv\")"
   ]
  },
  {
   "cell_type": "code",
   "execution_count": 3,
   "metadata": {},
   "outputs": [
    {
     "data": {
      "text/html": [
       "<div>\n",
       "<style scoped>\n",
       "    .dataframe tbody tr th:only-of-type {\n",
       "        vertical-align: middle;\n",
       "    }\n",
       "\n",
       "    .dataframe tbody tr th {\n",
       "        vertical-align: top;\n",
       "    }\n",
       "\n",
       "    .dataframe thead th {\n",
       "        text-align: right;\n",
       "    }\n",
       "</style>\n",
       "<table border=\"1\" class=\"dataframe\">\n",
       "  <thead>\n",
       "    <tr style=\"text-align: right;\">\n",
       "      <th></th>\n",
       "      <th>id</th>\n",
       "      <th>y</th>\n",
       "      <th>z</th>\n",
       "      <th>latitude</th>\n",
       "      <th>longitude</th>\n",
       "    </tr>\n",
       "  </thead>\n",
       "  <tbody>\n",
       "    <tr>\n",
       "      <th>0</th>\n",
       "      <td>1</td>\n",
       "      <td>-0.111466</td>\n",
       "      <td>1.334913</td>\n",
       "      <td>1.75</td>\n",
       "      <td>1.75</td>\n",
       "    </tr>\n",
       "    <tr>\n",
       "      <th>1</th>\n",
       "      <td>2</td>\n",
       "      <td>-0.067598</td>\n",
       "      <td>-0.869272</td>\n",
       "      <td>1.75</td>\n",
       "      <td>5.25</td>\n",
       "    </tr>\n",
       "    <tr>\n",
       "      <th>2</th>\n",
       "      <td>3</td>\n",
       "      <td>-0.131009</td>\n",
       "      <td>0.055487</td>\n",
       "      <td>1.75</td>\n",
       "      <td>8.75</td>\n",
       "    </tr>\n",
       "    <tr>\n",
       "      <th>3</th>\n",
       "      <td>4</td>\n",
       "      <td>-0.054521</td>\n",
       "      <td>0.049067</td>\n",
       "      <td>1.75</td>\n",
       "      <td>12.25</td>\n",
       "    </tr>\n",
       "    <tr>\n",
       "      <th>4</th>\n",
       "      <td>5</td>\n",
       "      <td>-0.136375</td>\n",
       "      <td>-0.578356</td>\n",
       "      <td>1.75</td>\n",
       "      <td>15.75</td>\n",
       "    </tr>\n",
       "  </tbody>\n",
       "</table>\n",
       "</div>"
      ],
      "text/plain": [
       "   id         y         z  latitude  longitude\n",
       "0   1 -0.111466  1.334913      1.75       1.75\n",
       "1   2 -0.067598 -0.869272      1.75       5.25\n",
       "2   3 -0.131009  0.055487      1.75       8.75\n",
       "3   4 -0.054521  0.049067      1.75      12.25\n",
       "4   5 -0.136375 -0.578356      1.75      15.75"
      ]
     },
     "execution_count": 3,
     "metadata": {},
     "output_type": "execute_result"
    }
   ],
   "source": [
    "data_ex2.head(5)"
   ]
  },
  {
   "cell_type": "markdown",
   "metadata": {},
   "source": [
    "## Spatial Grid Expansion"
   ]
  },
  {
   "cell_type": "markdown",
   "metadata": {},
   "source": [
    "This function takes in a regular point grid `data` (with coordinates `longitude` and `latitude`, input variable `z` and output variable `y`) and a factor `fact` by which the grid is to be expanded (e.g., `fact=2` doubles the grid cells (roughly))"
   ]
  },
  {
   "cell_type": "code",
   "execution_count": 4,
   "metadata": {},
   "outputs": [],
   "source": [
    "def grid_expand(data,fact):\n",
    "    \n",
    "    #Copy column names from existing grid\n",
    "    new_points = pd.DataFrame(columns=data[[\"longitude\",\"latitude\"]].columns)\n",
    "    \n",
    "    #Create new grid:\n",
    "    #Expand longitude by factor `fact`\n",
    "    dst = (data[[\"longitude\"]].max() - data[[\"longitude\"]].min()) / (len(data.longitude.unique())-1)\n",
    "    exp = float(dst/fact)\n",
    "    x = []\n",
    "    d = float(data[[\"longitude\"]].min())\n",
    "    while d <= float(data[[\"longitude\"]].max()):\n",
    "        x.append(d)    \n",
    "        d = d + exp\n",
    "    #Expand latitude by factor `fact`\n",
    "    dst = (data[[\"latitude\"]].max() - data[[\"latitude\"]].min()) / (len(data.longitude.unique())-1)\n",
    "    exp = float(dst/fact)\n",
    "    y = []\n",
    "    d = float(data[[\"latitude\"]].min())\n",
    "    while d <= float(data[[\"latitude\"]].max()):\n",
    "        y.append(d)    \n",
    "        d = d + exp\n",
    "    #Bind new lat and lon values\n",
    "    lon = x * len(y)\n",
    "    lat = sorted(y*len(x))\n",
    "    #Create new points dataframe\n",
    "    new_points = pd.DataFrame({\"longitude\":lon,\"latitude\":lat})\n",
    "    #Merge with existing dataframe\n",
    "    new_data = pd.merge(new_points,data, how=\"left\", on=[\"longitude\",\"latitude\"])\n",
    "    #Create column to indicate whether observation is original or synthetic \n",
    "    new_data[\"synth\"] = 0\n",
    "    new_data.loc[new_data.id.isnull(), \"synth\"] = 1\n",
    "    #Re-assign IDs\n",
    "    new_data[[\"id\"]] = np.asarray(list(range(0,len(new_data[\"id\"])))).reshape(-1,1)\n",
    "    \n",
    "    #Spatial operations:\n",
    "    #Compute distance matrix of new grid\n",
    "    dist = pysal.lib.cg.distance_matrix(np.array(new_data[[\"longitude\",\"latitude\"]]))\n",
    "    #Extract and flatten 10 nearest distances\n",
    "    k=10\n",
    "    u_dist = np.unique(dist)\n",
    "    k_min_dist = np.sort(u_dist.flatten())[:k]\n",
    "    #Create KD tree\n",
    "    kd = pysal.lib.cg.kdtree.KDTree(np.array(new_data[[\"longitude\",\"latitude\"]]))\n",
    "    #Define neighbourhood (here Queen structure)\n",
    "    w = pysal.lib.weights.distance.DistanceBand(kd, threshold=k_min_dist[2],binary=True,p=2) #Queen\n",
    "    \n",
    "    #Interpolate missing grid values\n",
    "    #OPTION 1:\n",
    "    #Interpolate new grid data based on mean of neighborhood\n",
    "    for k in new_data.index:\n",
    "        fill = new_data.iloc[k]\n",
    "        temp_id = []\n",
    "        if fill[\"synth\"] == 1:\n",
    "            temp_id = np.unique(np.concatenate([temp_id,w.neighbors[k]]).ravel().astype(np.int32))\n",
    "            neighbors = new_data.iloc[temp_id]\n",
    "            fill[\"z\"] = np.mean(neighbors[\"z\"])\n",
    "            fill[\"y\"] = np.mean(neighbors[\"y\"]) #Delete this line if OPTION 2 is preferred\n",
    "            new_data.iloc[k] = fill\n",
    "        else:\n",
    "            continue \n",
    "            \n",
    "    #OPTION 2:\n",
    "    #Interpolate Y using a linear model (works very poorly)\n",
    "\n",
    "    #from sklearn.linear_model import LinearRegression\n",
    "    #train = new_data[new_data[\"synth\"]==0]\n",
    "    #test = new_data[new_data[\"synth\"]==1]\n",
    "    #x_train = train[[\"longitude\",\"latitude\",\"z\"]]\n",
    "    #y_train = train[[\"y\"]]\n",
    "    #x_test = test[[\"longitude\",\"latitude\",\"z\"]]\n",
    "    #reg = LinearRegression().fit(x_train,y_train)\n",
    "    #y_pred = reg.predict(x_test)\n",
    "    #new_data[\"y\"][new_data[\"synth\"]==1] = y_pred\n",
    "    \n",
    "    #Return new dataframe\n",
    "    return new_data"
   ]
  },
  {
   "cell_type": "markdown",
   "metadata": {},
   "source": [
    "Run with both synthetic grid datasets."
   ]
  },
  {
   "cell_type": "code",
   "execution_count": 5,
   "metadata": {},
   "outputs": [
    {
     "name": "stderr",
     "output_type": "stream",
     "text": [
      "C:\\ProgramData\\Anaconda3\\lib\\site-packages\\ipykernel_launcher.py:57: SettingWithCopyWarning: \n",
      "A value is trying to be set on a copy of a slice from a DataFrame\n",
      "\n",
      "See the caveats in the documentation: http://pandas.pydata.org/pandas-docs/stable/indexing.html#indexing-view-versus-copy\n",
      "C:\\ProgramData\\Anaconda3\\lib\\site-packages\\ipykernel_launcher.py:58: SettingWithCopyWarning: \n",
      "A value is trying to be set on a copy of a slice from a DataFrame\n",
      "\n",
      "See the caveats in the documentation: http://pandas.pydata.org/pandas-docs/stable/indexing.html#indexing-view-versus-copy\n"
     ]
    }
   ],
   "source": [
    "new_data_ex1 = grid_expand(data_ex1,2)\n",
    "new_data_ex2 = grid_expand(data_ex2,2)"
   ]
  },
  {
   "cell_type": "markdown",
   "metadata": {},
   "source": [
    "Save the newly expanded dataframes."
   ]
  },
  {
   "cell_type": "code",
   "execution_count": 6,
   "metadata": {},
   "outputs": [],
   "source": [
    "new_data_ex1.to_csv(\"grid_expanded_ex1.csv\")\n",
    "new_data_ex2.to_csv(\"grid_expanded_ex2.csv\")"
   ]
  }
 ],
 "metadata": {
  "kernelspec": {
   "display_name": "Python 3",
   "language": "python",
   "name": "python3"
  },
  "language_info": {
   "codemirror_mode": {
    "name": "ipython",
    "version": 3
   },
   "file_extension": ".py",
   "mimetype": "text/x-python",
   "name": "python",
   "nbconvert_exporter": "python",
   "pygments_lexer": "ipython3",
   "version": "3.6.8"
  }
 },
 "nbformat": 4,
 "nbformat_minor": 2
}
