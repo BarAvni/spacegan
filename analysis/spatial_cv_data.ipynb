{
 "cells": [
  {
   "cell_type": "markdown",
   "metadata": {},
   "source": [
    "## Setup\n",
    "\n",
    "Load required packages"
   ]
  },
  {
   "cell_type": "code",
   "execution_count": 55,
   "metadata": {},
   "outputs": [],
   "source": [
    "import pandas as pd\n",
    "import io\n",
    "import requests\n",
    "import numpy as np\n",
    "import random\n",
    "import libpysal\n",
    "import pysal"
   ]
  },
  {
   "cell_type": "markdown",
   "metadata": {},
   "source": [
    "Read data"
   ]
  },
  {
   "cell_type": "code",
   "execution_count": 81,
   "metadata": {},
   "outputs": [],
   "source": [
    "#Read from URL (Doesnt work for private repos)\n",
    "#url=\"https://github.com/konstantinklemmer/spacegan/raw/master/data/synth_data.csv\"\n",
    "#s=requests.get(url).content\n",
    "#data=pd.read_csv(io.StringIO(s.decode('utf-8')))\n",
    "\n",
    "#Read from local file\n",
    "data=pd.read_csv(\"C:/Users/Konstantin Klemmer/Documents/GitHub/spacegan/data/grid_aug.csv\")"
   ]
  },
  {
   "cell_type": "code",
   "execution_count": 82,
   "metadata": {},
   "outputs": [
    {
     "data": {
      "text/html": [
       "<div>\n",
       "<style scoped>\n",
       "    .dataframe tbody tr th:only-of-type {\n",
       "        vertical-align: middle;\n",
       "    }\n",
       "\n",
       "    .dataframe tbody tr th {\n",
       "        vertical-align: top;\n",
       "    }\n",
       "\n",
       "    .dataframe thead th {\n",
       "        text-align: right;\n",
       "    }\n",
       "</style>\n",
       "<table border=\"1\" class=\"dataframe\">\n",
       "  <thead>\n",
       "    <tr style=\"text-align: right;\">\n",
       "      <th></th>\n",
       "      <th>id</th>\n",
       "      <th>y</th>\n",
       "      <th>longitude</th>\n",
       "      <th>latitude</th>\n",
       "      <th>z</th>\n",
       "      <th>nn0</th>\n",
       "      <th>nn1</th>\n",
       "      <th>nn2</th>\n",
       "      <th>nn3</th>\n",
       "      <th>nn4</th>\n",
       "      <th>...</th>\n",
       "      <th>nn20</th>\n",
       "      <th>nn21</th>\n",
       "      <th>nn22</th>\n",
       "      <th>nn23</th>\n",
       "      <th>nn24</th>\n",
       "      <th>nn25</th>\n",
       "      <th>nn26</th>\n",
       "      <th>nn27</th>\n",
       "      <th>nn28</th>\n",
       "      <th>nn29</th>\n",
       "    </tr>\n",
       "  </thead>\n",
       "  <tbody>\n",
       "    <tr>\n",
       "      <th>0</th>\n",
       "      <td>0</td>\n",
       "      <td>-0.844504</td>\n",
       "      <td>2.5</td>\n",
       "      <td>2.5</td>\n",
       "      <td>1.370958</td>\n",
       "      <td>-0.832568</td>\n",
       "      <td>-0.832449</td>\n",
       "      <td>-0.845500</td>\n",
       "      <td>-0.793995</td>\n",
       "      <td>-0.794071</td>\n",
       "      <td>...</td>\n",
       "      <td>-0.794673</td>\n",
       "      <td>-0.527385</td>\n",
       "      <td>-0.526857</td>\n",
       "      <td>-0.832357</td>\n",
       "      <td>-0.832634</td>\n",
       "      <td>-0.641253</td>\n",
       "      <td>-0.641905</td>\n",
       "      <td>-0.730428</td>\n",
       "      <td>-0.731069</td>\n",
       "      <td>-0.845475</td>\n",
       "    </tr>\n",
       "    <tr>\n",
       "      <th>1</th>\n",
       "      <td>1</td>\n",
       "      <td>-0.832568</td>\n",
       "      <td>7.5</td>\n",
       "      <td>2.5</td>\n",
       "      <td>-0.564698</td>\n",
       "      <td>-0.844504</td>\n",
       "      <td>-0.845500</td>\n",
       "      <td>-0.793995</td>\n",
       "      <td>-0.832449</td>\n",
       "      <td>-0.832383</td>\n",
       "      <td>...</td>\n",
       "      <td>-0.641905</td>\n",
       "      <td>-0.794130</td>\n",
       "      <td>-0.641186</td>\n",
       "      <td>-0.832634</td>\n",
       "      <td>-0.832357</td>\n",
       "      <td>-0.730428</td>\n",
       "      <td>-0.641253</td>\n",
       "      <td>-0.793685</td>\n",
       "      <td>-0.845475</td>\n",
       "      <td>-0.387048</td>\n",
       "    </tr>\n",
       "    <tr>\n",
       "      <th>2</th>\n",
       "      <td>2</td>\n",
       "      <td>-0.793995</td>\n",
       "      <td>12.5</td>\n",
       "      <td>2.5</td>\n",
       "      <td>0.363128</td>\n",
       "      <td>-0.832568</td>\n",
       "      <td>-0.730340</td>\n",
       "      <td>-0.832383</td>\n",
       "      <td>-0.845500</td>\n",
       "      <td>-0.793699</td>\n",
       "      <td>...</td>\n",
       "      <td>-0.832634</td>\n",
       "      <td>-0.730428</td>\n",
       "      <td>-0.387048</td>\n",
       "      <td>-0.794130</td>\n",
       "      <td>-0.730511</td>\n",
       "      <td>-0.527461</td>\n",
       "      <td>-0.832357</td>\n",
       "      <td>-0.793685</td>\n",
       "      <td>-0.641186</td>\n",
       "      <td>-0.845475</td>\n",
       "    </tr>\n",
       "    <tr>\n",
       "      <th>3</th>\n",
       "      <td>3</td>\n",
       "      <td>-0.730340</td>\n",
       "      <td>17.5</td>\n",
       "      <td>2.5</td>\n",
       "      <td>0.632863</td>\n",
       "      <td>-0.793699</td>\n",
       "      <td>-0.793995</td>\n",
       "      <td>-0.641493</td>\n",
       "      <td>-0.730159</td>\n",
       "      <td>-0.832383</td>\n",
       "      <td>...</td>\n",
       "      <td>-0.832634</td>\n",
       "      <td>-0.794071</td>\n",
       "      <td>-0.793685</td>\n",
       "      <td>-0.794082</td>\n",
       "      <td>-0.642062</td>\n",
       "      <td>-0.222415</td>\n",
       "      <td>-0.832357</td>\n",
       "      <td>-0.388055</td>\n",
       "      <td>-0.845475</td>\n",
       "      <td>-0.794130</td>\n",
       "    </tr>\n",
       "    <tr>\n",
       "      <th>4</th>\n",
       "      <td>4</td>\n",
       "      <td>-0.641493</td>\n",
       "      <td>22.5</td>\n",
       "      <td>2.5</td>\n",
       "      <td>0.404268</td>\n",
       "      <td>-0.730159</td>\n",
       "      <td>-0.730340</td>\n",
       "      <td>-0.527385</td>\n",
       "      <td>-0.641905</td>\n",
       "      <td>-0.793699</td>\n",
       "      <td>...</td>\n",
       "      <td>-0.844502</td>\n",
       "      <td>-0.526827</td>\n",
       "      <td>-0.832475</td>\n",
       "      <td>-0.832016</td>\n",
       "      <td>-0.730473</td>\n",
       "      <td>-0.844504</td>\n",
       "      <td>-0.031306</td>\n",
       "      <td>-0.845475</td>\n",
       "      <td>-0.832357</td>\n",
       "      <td>-0.832004</td>\n",
       "    </tr>\n",
       "  </tbody>\n",
       "</table>\n",
       "<p>5 rows × 35 columns</p>\n",
       "</div>"
      ],
      "text/plain": [
       "   id         y  longitude  latitude         z       nn0       nn1       nn2  \\\n",
       "0   0 -0.844504        2.5       2.5  1.370958 -0.832568 -0.832449 -0.845500   \n",
       "1   1 -0.832568        7.5       2.5 -0.564698 -0.844504 -0.845500 -0.793995   \n",
       "2   2 -0.793995       12.5       2.5  0.363128 -0.832568 -0.730340 -0.832383   \n",
       "3   3 -0.730340       17.5       2.5  0.632863 -0.793699 -0.793995 -0.641493   \n",
       "4   4 -0.641493       22.5       2.5  0.404268 -0.730159 -0.730340 -0.527385   \n",
       "\n",
       "        nn3       nn4  ...      nn20      nn21      nn22      nn23      nn24  \\\n",
       "0 -0.793995 -0.794071  ... -0.794673 -0.527385 -0.526857 -0.832357 -0.832634   \n",
       "1 -0.832449 -0.832383  ... -0.641905 -0.794130 -0.641186 -0.832634 -0.832357   \n",
       "2 -0.845500 -0.793699  ... -0.832634 -0.730428 -0.387048 -0.794130 -0.730511   \n",
       "3 -0.730159 -0.832383  ... -0.832634 -0.794071 -0.793685 -0.794082 -0.642062   \n",
       "4 -0.641905 -0.793699  ... -0.844502 -0.526827 -0.832475 -0.832016 -0.730473   \n",
       "\n",
       "       nn25      nn26      nn27      nn28      nn29  \n",
       "0 -0.641253 -0.641905 -0.730428 -0.731069 -0.845475  \n",
       "1 -0.730428 -0.641253 -0.793685 -0.845475 -0.387048  \n",
       "2 -0.527461 -0.832357 -0.793685 -0.641186 -0.845475  \n",
       "3 -0.222415 -0.832357 -0.388055 -0.845475 -0.794130  \n",
       "4 -0.844504 -0.031306 -0.845475 -0.832357 -0.832004  \n",
       "\n",
       "[5 rows x 35 columns]"
      ]
     },
     "execution_count": 82,
     "metadata": {},
     "output_type": "execute_result"
    }
   ],
   "source": [
    "data.head(5)"
   ]
  },
  {
   "cell_type": "markdown",
   "metadata": {},
   "source": [
    "Create a pairwise distance matrix (Euclidean) between the points"
   ]
  },
  {
   "cell_type": "code",
   "execution_count": 83,
   "metadata": {},
   "outputs": [],
   "source": [
    "dist = pysal.lib.cg.distance_matrix(np.array(data[[\"longitude\",\"latitude\"]]))"
   ]
  },
  {
   "cell_type": "markdown",
   "metadata": {},
   "source": [
    "Get the `k` smallest distances (of the whole matrix, since the points are equally distributed)"
   ]
  },
  {
   "cell_type": "code",
   "execution_count": 84,
   "metadata": {},
   "outputs": [],
   "source": [
    "k=10\n",
    "u_dist = np.unique(dist)\n",
    "k_min_dist = np.sort(u_dist.flatten())[:k]"
   ]
  },
  {
   "cell_type": "code",
   "execution_count": 85,
   "metadata": {},
   "outputs": [
    {
     "data": {
      "text/plain": [
       "array([ 0.        ,  5.        ,  7.07106781, 10.        , 11.18033989,\n",
       "       14.14213562, 15.        , 15.8113883 , 18.02775638, 20.        ])"
      ]
     },
     "execution_count": 85,
     "metadata": {},
     "output_type": "execute_result"
    }
   ],
   "source": [
    "k_min_dist"
   ]
  },
  {
   "cell_type": "markdown",
   "metadata": {},
   "source": [
    "Create spatial points object ([KDTree](https://pysal.readthedocs.io/en/dev/library/cg/kdtree.html))). "
   ]
  },
  {
   "cell_type": "code",
   "execution_count": 86,
   "metadata": {},
   "outputs": [],
   "source": [
    "import pysal.lib\n",
    "kd = pysal.lib.cg.kdtree.KDTree(np.array(data[[\"longitude\",\"latitude\"]]))"
   ]
  },
  {
   "cell_type": "markdown",
   "metadata": {},
   "source": [
    "Compute spatial neighbourhoods weight matrix by distance threshold (\"radius\")\n"
   ]
  },
  {
   "cell_type": "code",
   "execution_count": 87,
   "metadata": {},
   "outputs": [],
   "source": [
    "#wnn = pysal.lib.weights.KNN(kd, 8, ids=data[\"id\"]) #KNN based weights\n",
    "#wdist= pysal.lib.weights.distance.DistanceBand(kd, threshold=k_min_dist[1],binary=False,p=2) #Rook\n",
    "wdist= pysal.lib.weights.distance.DistanceBand(kd, threshold=k_min_dist[2],binary=True,p=2) #Queen\n",
    "#wdist= pysal.lib.weights.distance.DistanceBand(kd, threshold=k_min_dist[4],binary=True,p=2) #Queen 2nd degree"
   ]
  },
  {
   "cell_type": "markdown",
   "metadata": {},
   "source": [
    "## Spatial CV: Lat/Lon slicing"
   ]
  },
  {
   "cell_type": "markdown",
   "metadata": {},
   "source": [
    "Create labels based on latitude / longitude binning and add the labels to the original data"
   ]
  },
  {
   "cell_type": "code",
   "execution_count": 88,
   "metadata": {},
   "outputs": [],
   "source": [
    "data[\"lon_group\"] = pd.cut(data[\"longitude\"],bins=5,labels=[1,2,3,4,5])\n",
    "data[\"lat_group\"] = pd.cut(data[\"latitude\"],bins=5,labels=[1,2,3,4,5])"
   ]
  },
  {
   "cell_type": "markdown",
   "metadata": {},
   "source": [
    "This method loops over our lat/lon groups, keeping each group as test data and the rest as train data. However, as we want to do spatial cross-validation, we remove neighbors of the test set. This can help to prevent model overfitting. Here, we remove 1st and 2nd degree neighbors, but the method can be adapted as needed. We create 10 folds (5 lon, 5 lat slicing) and save these in the columns `lat_group[1-5]` and `lon_group[1-5]`. For the values in each of these columns, `1` indicates testing data, `2` training data and `0`indicates data to be removed."
   ]
  },
  {
   "cell_type": "code",
   "execution_count": 90,
   "metadata": {},
   "outputs": [],
   "source": [
    "for q in list(data)[-2::]: #Loop over the two slicing label columns \n",
    "    data[\"s_id\"] = data[q] #Define which label column to use for slicing\n",
    "    \n",
    "    for j in np.unique(data[\"s_id\"]): #Loop over the unique labels in the slicing column \n",
    "        \n",
    "        data[q+str(j)] = 0\n",
    "        \n",
    "        test = data[data[\"s_id\"]==j] #Define test data \n",
    "        data.loc[data[\"id\"].isin(np.array(test[\"id\"])),q+str(j)] = 1\n",
    "        \n",
    "        temp_id = [] #Create empty neighbourhood index\n",
    "        \n",
    "        for k in test.index: #Fill neighborhood index using first degree neighbors of test data\n",
    "            temp_id = np.unique(np.concatenate([temp_id,wdist.neighbors[k]]).ravel().astype(np.int32))\n",
    "            \n",
    "        for l in temp_id: #Include second degree neighbors\n",
    "            temp_id = np.unique(np.concatenate([temp_id,wdist.neighbors[l]]).ravel().astype(np.int32))\n",
    "        \n",
    "        #for m in temp_id: #Include third degree neighbors\n",
    "        #    temp_id = np.unique(np.concatenate([temp_id,wdist.neighbors[m]]).ravel().astype(np.int32))\n",
    "            \n",
    "        train = data[data[\"s_id\"]!=j] #Define train data \n",
    "        train = train.drop(temp_id,errors=\"ignore\") #Exclude neighbors from index\n",
    "        data.loc[data[\"id\"].isin(np.array(train[\"id\"])),q+str(j)] = 2\n",
    "        \n",
    "        #INSERT DATA AUGMENTATION METHOD HERE\n",
    "        #train_aug = ...\n",
    "        \n",
    "        #INSERT MODEL TRAINING HERE\n",
    "        #model1 = f(train)\n",
    "        #predict = predict(model1,test)"
   ]
  },
  {
   "cell_type": "markdown",
   "metadata": {},
   "source": [
    "We can now save the data:"
   ]
  },
  {
   "cell_type": "code",
   "execution_count": 94,
   "metadata": {},
   "outputs": [],
   "source": [
    "data.to_csv(\"grid_aug_train.csv\")"
   ]
  }
 ],
 "metadata": {
  "kernelspec": {
   "display_name": "Python 3",
   "language": "python",
   "name": "python3"
  },
  "language_info": {
   "codemirror_mode": {
    "name": "ipython",
    "version": 3
   },
   "file_extension": ".py",
   "mimetype": "text/x-python",
   "name": "python",
   "nbconvert_exporter": "python",
   "pygments_lexer": "ipython3",
   "version": "3.6.8"
  }
 },
 "nbformat": 4,
 "nbformat_minor": 2
}
